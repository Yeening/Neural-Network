{
 "cells": [
  {
   "cell_type": "markdown",
   "metadata": {
    "colab_type": "text",
    "id": "O2ieg_PxXZpJ"
   },
   "source": [
    "Upload the fashion_train.csv file to your google drive and specify the correct path in the main method. When prompted, provide the authorization key."
   ]
  },
  {
   "cell_type": "code",
   "execution_count": 28,
   "metadata": {
    "colab": {
     "base_uri": "https://localhost:8080/",
     "height": 33
    },
    "colab_type": "code",
    "id": "4RtrTSDeW2y3",
    "outputId": "aed24576-e624-4094-842b-f0b05b1b3ecf"
   },
   "outputs": [
    {
     "name": "stdout",
     "output_type": "stream",
     "text": [
      "Drive already mounted at /content/drive; to attempt to forcibly remount, call drive.mount(\"/content/drive\", force_remount=True).\n"
     ]
    }
   ],
   "source": [
    "# Machine Learning Homework 4 - Image Classification\n",
    "\n",
    "__author__ = '**'\n",
    "\n",
    "# General imports\n",
    "import numpy as np\n",
    "import matplotlib.pyplot as plt\n",
    "from sklearn.utils import shuffle\n",
    "from sklearn.model_selection import GridSearchCV\n",
    "import os\n",
    "import sys\n",
    "import pandas as pd\n",
    "\n",
    "# Keras\n",
    "import keras\n",
    "from keras.models import Sequential\n",
    "from keras.layers import Dense, Conv2D, MaxPooling2D, Dropout, Flatten\n",
    "from keras.wrappers.scikit_learn import KerasClassifier\n",
    "\n",
    "# Google Colab stuff\n",
    "from google.colab import drive\n",
    "drive.mount('/content/drive')"
   ]
  },
  {
   "cell_type": "markdown",
   "metadata": {
    "colab_type": "text",
    "id": "x_gSZT4Sa_aR"
   },
   "source": [
    "The below methods have been provided for you."
   ]
  },
  {
   "cell_type": "code",
   "execution_count": 0,
   "metadata": {
    "colab": {},
    "colab_type": "code",
    "id": "fkfUkDaMXeaG"
   },
   "outputs": [],
   "source": [
    "### Already implemented\n",
    "def get_data(datafile):\n",
    "  dataframe = pd.read_csv(datafile)\n",
    "  dataframe = shuffle(dataframe)\n",
    "  data = list(dataframe.values)\n",
    "  labels, images = [], []\n",
    "  for line in data:\n",
    "    labels.append(line[0])\n",
    "    images.append(line[1:])\n",
    "  labels = np.array(labels)\n",
    "  images = np.array(images).astype('float32')\n",
    "  images /= 255\n",
    "  return images, labels\n",
    "\n",
    "\n",
    "### Already implemented\n",
    "def visualize_weights(trained_model, num_to_display=20, save=True, hot=True):\n",
    "  layer1 = trained_model.layers[0]\n",
    "  weights = layer1.get_weights()[0]\n",
    "\n",
    "  # Feel free to change the color scheme\n",
    "  colors = 'hot' if hot else 'binary'\n",
    "\n",
    "  for i in range(num_to_display):\n",
    "    wi = weights[:,i].reshape(28, 28)\n",
    "    plt.imshow(wi, cmap=colors, interpolation='nearest')\n",
    "    plt.show()\n",
    "\n",
    "\n",
    "### Already implemented\n",
    "def output_predictions(predictions):\n",
    "  with open('predictions.txt', 'w+') as f:\n",
    "    for pred in predictions:\n",
    "      f.write(str(pred) + '\\n')"
   ]
  },
  {
   "cell_type": "markdown",
   "metadata": {
    "colab_type": "text",
    "id": "shqpBTr8ciBJ"
   },
   "source": [
    "Implement the following method to generate plots of the train and validation accuracy and loss vs epochs. \n",
    "You should call this method for your best-performing MLP model and best-performing CNN model \n",
    "(4 plots total--2 accuracy plots, 2 loss plots)."
   ]
  },
  {
   "cell_type": "code",
   "execution_count": 0,
   "metadata": {
    "colab": {},
    "colab_type": "code",
    "id": "ujMMBLK4bFD6"
   },
   "outputs": [],
   "source": [
    "def plot_history(history):\n",
    "  train_loss_history = history.history['loss']\n",
    "  val_loss_history = history.history['val_loss']\n",
    "\n",
    "  train_acc_history = history.history['acc']\n",
    "  val_acc_history = history.history['val_acc']\n",
    "\n",
    "  # plot\n"
   ]
  },
  {
   "cell_type": "markdown",
   "metadata": {
    "colab_type": "text",
    "id": "3OXElRWFc8hN"
   },
   "source": [
    "Code for defining and training your MLP models"
   ]
  },
  {
   "cell_type": "code",
   "execution_count": 31,
   "metadata": {
    "colab": {
     "base_uri": "https://localhost:8080/",
     "height": 130
    },
    "colab_type": "code",
    "id": "mhgYA_4Uc4jA",
    "outputId": "9f9fe68b-93ed-424e-ed3a-7f91b0850979"
   },
   "outputs": [
    {
     "ename": "SyntaxError",
     "evalue": "ignored",
     "output_type": "error",
     "traceback": [
      "\u001b[0;36m  File \u001b[0;32m\"<ipython-input-31-85f2865e4591>\"\u001b[0;36m, line \u001b[0;32m6\u001b[0m\n\u001b[0;31m    model.add(Dense(units=, activation=, input_dim=28*28))\u001b[0m\n\u001b[0m                          ^\u001b[0m\n\u001b[0;31mSyntaxError\u001b[0m\u001b[0;31m:\u001b[0m invalid syntax\n"
     ]
    }
   ],
   "source": [
    "def create_mlp(args=None):\n",
    "\t# You can use args to pass parameter values to this method\n",
    "\n",
    "\t# Define model architecture\n",
    "\tmodel = Sequential()\n",
    "\tmodel.add(Dense(units=, activation=, input_dim=28*28))\n",
    "\t# add more layers...\n",
    "\n",
    "\t# Define Optimizer\n",
    "\toptimizer = keras.optimizers.SGD(...)\n",
    "\n",
    "\t# Compile\n",
    "\tmodel.compile(loss=, optimizer=optimizer, metrics=['accuracy'])\n",
    "\n",
    "\treturn model\n",
    "\n",
    "def train_mlp(x_train, y_train, x_vali=None, y_vali=None, args=None):\n",
    "\t# You can use args to pass parameter values to this method\n",
    "\ty_train = keras.utils.to_categorical(y_train, num_classes=)\n",
    "\tmodel = create_mlp(args)\n",
    "\thistory = model.fit(...)\n",
    "\treturn model, history"
   ]
  },
  {
   "cell_type": "markdown",
   "metadata": {
    "colab_type": "text",
    "id": "CIF5HwMWdDn2"
   },
   "source": [
    "Code for defining and training your CNN models"
   ]
  },
  {
   "cell_type": "code",
   "execution_count": 0,
   "metadata": {
    "colab": {},
    "colab_type": "code",
    "id": "8hA6yMX8dFsG"
   },
   "outputs": [],
   "source": [
    "def create_cnn(args=None):\n",
    "\t# You can use args to pass parameter values to this method\n",
    "\n",
    "\t# 28x28 images with 1 color channel\n",
    "\tinput_shape = (28, 28, 1)\n",
    "\n",
    "\t# Define model architecture\n",
    "\tmodel = Sequential\n",
    "\tmodel.add(Conv2D(filters=, activation=, kernel_size=, strides=, input_shape=input_shape))\n",
    "\tmodel.add(MaxPooling2D(pool_size=, strides=))\n",
    "\t# can add more layers here...\n",
    "\tmodel.add(Flatten())\n",
    "\t# can add more layers here...\n",
    "\tmodel.add(Dense(units=, activation=))\n",
    "\n",
    "\t# Optimizer\n",
    "\toptimizer = keras.optimizers.SGD(lr=)\n",
    "\n",
    "\t# Compile\n",
    "\tmodel.compile(loss=, optimizer=optimizer, metrics=['accuracy'])\n",
    "\n",
    "\treturn model\n",
    "\n",
    "\n",
    "def train_cnn(x_train, y_train, x_vali=None, y_vali=None, args=None):\n",
    "\t# You can use args to pass parameter values to this method\n",
    "\tx_train = x_train.reshape(-1, 28, 28, 1)\n",
    "\ty_train = keras.utils.to_categorical(y_train, num_classes=)\n",
    "\tmodel = create_cnn(args)\n",
    "\thistory = model.fit(...)\n",
    "\treturn model, history"
   ]
  },
  {
   "cell_type": "markdown",
   "metadata": {
    "colab_type": "text",
    "id": "u6TLfQdUdIPD"
   },
   "source": [
    "An optional method you can use to repeatedly call create_mlp, train_mlp, create_cnn, or train_cnn. \n",
    "You can use it for performing cross validation or parameter searching."
   ]
  },
  {
   "cell_type": "code",
   "execution_count": 0,
   "metadata": {
    "colab": {},
    "colab_type": "code",
    "id": "hDyqOjHidWyD"
   },
   "outputs": [],
   "source": [
    "def train_and_select_model(train_csv):\n",
    "\t\"\"\"Optional method. You can write code here to perform a \n",
    "\tparameter search, cross-validation, etc. \"\"\"\n",
    "\n",
    "\tx_train, y_train = get_data(train_csv)\n",
    "\n",
    "\targs = {\n",
    "\t\t'learning_rate': 0.01,\n",
    "\t}\n",
    "\tmodel, history = train_mlp(x_train, y_train, x_vali=None, y_vali=None, args)\n",
    "\tvalidation_accuracy = history.history['val_acc']\n",
    "\t\n",
    "\treturn best_model, history"
   ]
  },
  {
   "cell_type": "markdown",
   "metadata": {
    "colab_type": "text",
    "id": "uPfB5kgadYfn"
   },
   "source": [
    "Main method. Make sure the file paths here point to the correct place in your google drive."
   ]
  },
  {
   "cell_type": "code",
   "execution_count": 23,
   "metadata": {
    "colab": {
     "base_uri": "https://localhost:8080/",
     "height": 246
    },
    "colab_type": "code",
    "id": "7BEZTSQ_dcim",
    "outputId": "b1512e94-b16f-4313-dcaf-6875a33a8a56"
   },
   "outputs": [
    {
     "name": "stdout",
     "output_type": "stream",
     "text": [
      "ehhlllo\n"
     ]
    },
    {
     "ename": "NameError",
     "evalue": "ignored",
     "output_type": "error",
     "traceback": [
      "\u001b[0;31m---------------------------------------------------------------------------\u001b[0m",
      "\u001b[0;31mNameError\u001b[0m                                 Traceback (most recent call last)",
      "\u001b[0;32m<ipython-input-23-cb2b80d6a5e7>\u001b[0m in \u001b[0;36m<module>\u001b[0;34m()\u001b[0m\n\u001b[1;32m     23\u001b[0m     \u001b[0mtest_file\u001b[0m \u001b[0;34m=\u001b[0m \u001b[0;34m'/content/drive/My Drive/fashion_data/fashion_test_labeled.csv'\u001b[0m\u001b[0;34m\u001b[0m\u001b[0m\n\u001b[1;32m     24\u001b[0m     \u001b[0mx_train\u001b[0m\u001b[0;34m,\u001b[0m \u001b[0my_train\u001b[0m \u001b[0;34m=\u001b[0m \u001b[0mget_data\u001b[0m\u001b[0;34m(\u001b[0m\u001b[0mtrain_file\u001b[0m\u001b[0;34m)\u001b[0m\u001b[0;34m\u001b[0m\u001b[0m\n\u001b[0;32m---> 25\u001b[0;31m     \u001b[0mmlp_model\u001b[0m\u001b[0;34m,\u001b[0m \u001b[0mmlp_history\u001b[0m \u001b[0;34m=\u001b[0m \u001b[0mtrain_and_select_model\u001b[0m\u001b[0;34m(\u001b[0m\u001b[0mtrain_file\u001b[0m\u001b[0;34m,\u001b[0m \u001b[0margs\u001b[0m\u001b[0;34m=\u001b[0m\u001b[0;32mNone\u001b[0m\u001b[0;34m)\u001b[0m\u001b[0;34m\u001b[0m\u001b[0m\n\u001b[0m\u001b[1;32m     26\u001b[0m     \u001b[0mplot_history\u001b[0m\u001b[0;34m(\u001b[0m\u001b[0mmlp_history\u001b[0m\u001b[0;34m)\u001b[0m\u001b[0;34m\u001b[0m\u001b[0m\n\u001b[1;32m     27\u001b[0m     \u001b[0mvisualize_weights\u001b[0m\u001b[0;34m(\u001b[0m\u001b[0mmlp_model\u001b[0m\u001b[0;34m)\u001b[0m\u001b[0;34m\u001b[0m\u001b[0m\n",
      "\u001b[0;31mNameError\u001b[0m: name 'train_and_select_model' is not defined"
     ]
    }
   ],
   "source": [
    "if __name__ == '__main__':\n",
    "  ### Switch to \"development_mode = False\" before you submit ###\n",
    "  grading_mode = False\n",
    "  if grading_mode:\n",
    "    # When we grade, we'll provide the file names as command-line arguments\n",
    "    if (len(sys.argv) != 3):\n",
    "      print(\"Usage:\\n\\tpython3 fashion.py train_file test_file\")\n",
    "      exit()\n",
    "    train_file, test_file = sys.argv[1], sys.argv[2]\n",
    "\n",
    "    # train your best model\n",
    "    best_model = None\n",
    "\n",
    "    # use your best model to generate predictions for the test_file\n",
    "    predictions = []\n",
    "    output_predictions(predictions)\n",
    "\n",
    "  # Include all of the required figures in your report. Don't generate them here.\n",
    "  else:\n",
    "    ### Edit the following two lines if your paths are different\n",
    "    train_file = '/content/drive/My Drive/fashion_data/fashion_train.csv'\n",
    "    test_file = '/content/drive/My Drive/fashion_data/fashion_test_labeled.csv'\n",
    "    x_train, y_train = get_data(train_file)\n",
    "    mlp_model, mlp_history = train_and_select_model(train_file)\n",
    "    plot_history(mlp_history)\n",
    "    visualize_weights(mlp_model)"
   ]
  }
 ],
 "metadata": {
  "colab": {
   "collapsed_sections": [],
   "name": "fashion_template.ipynb",
   "provenance": [],
   "version": "0.3.2"
  },
  "kernelspec": {
   "display_name": "Python 3",
   "language": "python",
   "name": "python3"
  },
  "language_info": {
   "codemirror_mode": {
    "name": "ipython",
    "version": 3
   },
   "file_extension": ".py",
   "mimetype": "text/x-python",
   "name": "python",
   "nbconvert_exporter": "python",
   "pygments_lexer": "ipython3",
   "version": "3.7.3"
  }
 },
 "nbformat": 4,
 "nbformat_minor": 1
}
